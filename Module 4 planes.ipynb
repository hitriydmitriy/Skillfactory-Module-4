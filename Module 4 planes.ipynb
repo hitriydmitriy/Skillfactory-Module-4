{
 "cells": [
  {
   "cell_type": "code",
   "execution_count": 94,
   "id": "891c0e4f",
   "metadata": {
    "scrolled": true
   },
   "outputs": [
    {
     "data": {
      "text/html": [
       "<div>\n",
       "<style scoped>\n",
       "    .dataframe tbody tr th:only-of-type {\n",
       "        vertical-align: middle;\n",
       "    }\n",
       "\n",
       "    .dataframe tbody tr th {\n",
       "        vertical-align: top;\n",
       "    }\n",
       "\n",
       "    .dataframe thead th {\n",
       "        text-align: right;\n",
       "    }\n",
       "</style>\n",
       "<table border=\"1\" class=\"dataframe\">\n",
       "  <thead>\n",
       "    <tr style=\"text-align: right;\">\n",
       "      <th></th>\n",
       "      <th>flight_id</th>\n",
       "      <th>flight_duration_minutes</th>\n",
       "      <th>actual_departure</th>\n",
       "      <th>actual_arrival</th>\n",
       "      <th>model</th>\n",
       "      <th>fare_conditions</th>\n",
       "      <th>total_seats</th>\n",
       "      <th>count</th>\n",
       "      <th>sum</th>\n",
       "      <th>city_of_departure</th>\n",
       "      <th>city_of_arrival</th>\n",
       "    </tr>\n",
       "  </thead>\n",
       "  <tbody>\n",
       "    <tr>\n",
       "      <th>0</th>\n",
       "      <td>136119</td>\n",
       "      <td>101.0</td>\n",
       "      <td>2017-01-03T10:08:00Z</td>\n",
       "      <td>2017-01-03T11:49:00Z</td>\n",
       "      <td>Boeing 737-300</td>\n",
       "      <td>Business</td>\n",
       "      <td>12</td>\n",
       "      <td>11</td>\n",
       "      <td>402600.0</td>\n",
       "      <td>Anapa</td>\n",
       "      <td>Moscow</td>\n",
       "    </tr>\n",
       "    <tr>\n",
       "      <th>1</th>\n",
       "      <td>136119</td>\n",
       "      <td>101.0</td>\n",
       "      <td>2017-01-03T10:08:00Z</td>\n",
       "      <td>2017-01-03T11:49:00Z</td>\n",
       "      <td>Boeing 737-300</td>\n",
       "      <td>Economy</td>\n",
       "      <td>118</td>\n",
       "      <td>102</td>\n",
       "      <td>1250400.0</td>\n",
       "      <td>Anapa</td>\n",
       "      <td>Moscow</td>\n",
       "    </tr>\n",
       "    <tr>\n",
       "      <th>2</th>\n",
       "      <td>136120</td>\n",
       "      <td>99.0</td>\n",
       "      <td>2017-02-24T10:07:00Z</td>\n",
       "      <td>2017-02-24T11:46:00Z</td>\n",
       "      <td>Boeing 737-300</td>\n",
       "      <td>Business</td>\n",
       "      <td>12</td>\n",
       "      <td>11</td>\n",
       "      <td>402600.0</td>\n",
       "      <td>Anapa</td>\n",
       "      <td>Moscow</td>\n",
       "    </tr>\n",
       "    <tr>\n",
       "      <th>3</th>\n",
       "      <td>136120</td>\n",
       "      <td>99.0</td>\n",
       "      <td>2017-02-24T10:07:00Z</td>\n",
       "      <td>2017-02-24T11:46:00Z</td>\n",
       "      <td>Boeing 737-300</td>\n",
       "      <td>Economy</td>\n",
       "      <td>118</td>\n",
       "      <td>98</td>\n",
       "      <td>1202800.0</td>\n",
       "      <td>Anapa</td>\n",
       "      <td>Moscow</td>\n",
       "    </tr>\n",
       "    <tr>\n",
       "      <th>4</th>\n",
       "      <td>136122</td>\n",
       "      <td>100.0</td>\n",
       "      <td>2017-01-08T10:08:00Z</td>\n",
       "      <td>2017-01-08T11:48:00Z</td>\n",
       "      <td>Boeing 737-300</td>\n",
       "      <td>Business</td>\n",
       "      <td>12</td>\n",
       "      <td>10</td>\n",
       "      <td>366000.0</td>\n",
       "      <td>Anapa</td>\n",
       "      <td>Moscow</td>\n",
       "    </tr>\n",
       "  </tbody>\n",
       "</table>\n",
       "</div>"
      ],
      "text/plain": [
       "   flight_id  flight_duration_minutes      actual_departure  \\\n",
       "0     136119                    101.0  2017-01-03T10:08:00Z   \n",
       "1     136119                    101.0  2017-01-03T10:08:00Z   \n",
       "2     136120                     99.0  2017-02-24T10:07:00Z   \n",
       "3     136120                     99.0  2017-02-24T10:07:00Z   \n",
       "4     136122                    100.0  2017-01-08T10:08:00Z   \n",
       "\n",
       "         actual_arrival           model fare_conditions  total_seats  count  \\\n",
       "0  2017-01-03T11:49:00Z  Boeing 737-300        Business           12     11   \n",
       "1  2017-01-03T11:49:00Z  Boeing 737-300         Economy          118    102   \n",
       "2  2017-02-24T11:46:00Z  Boeing 737-300        Business           12     11   \n",
       "3  2017-02-24T11:46:00Z  Boeing 737-300         Economy          118     98   \n",
       "4  2017-01-08T11:48:00Z  Boeing 737-300        Business           12     10   \n",
       "\n",
       "         sum city_of_departure city_of_arrival  \n",
       "0   402600.0             Anapa          Moscow  \n",
       "1  1250400.0             Anapa          Moscow  \n",
       "2   402600.0             Anapa          Moscow  \n",
       "3  1202800.0             Anapa          Moscow  \n",
       "4   366000.0             Anapa          Moscow  "
      ]
     },
     "execution_count": 94,
     "metadata": {},
     "output_type": "execute_result"
    }
   ],
   "source": [
    "import pandas as pd\n",
    "import numpy as np\n",
    "import matplotlib.pyplot as plt\n",
    "import seaborn as sns\n",
    "df = pd.read_csv('planes.csv')\n",
    "df.head()"
   ]
  },
  {
   "cell_type": "markdown",
   "id": "d8d48443",
   "metadata": {},
   "source": [
    "Загрузка библиотек, загрузка CSV из Метабейз"
   ]
  },
  {
   "cell_type": "code",
   "execution_count": 95,
   "id": "bef5b378",
   "metadata": {},
   "outputs": [],
   "source": [
    "prices = pd.read_excel('fuel of planes.xlsx')"
   ]
  },
  {
   "cell_type": "code",
   "execution_count": 96,
   "id": "b7edbabd",
   "metadata": {
    "scrolled": true
   },
   "outputs": [],
   "source": [
    "df = df.merge(prices, on = 'model', how = 'left')"
   ]
  },
  {
   "cell_type": "code",
   "execution_count": 97,
   "id": "841007d3",
   "metadata": {},
   "outputs": [
    {
     "data": {
      "text/html": [
       "<div>\n",
       "<style scoped>\n",
       "    .dataframe tbody tr th:only-of-type {\n",
       "        vertical-align: middle;\n",
       "    }\n",
       "\n",
       "    .dataframe tbody tr th {\n",
       "        vertical-align: top;\n",
       "    }\n",
       "\n",
       "    .dataframe thead th {\n",
       "        text-align: right;\n",
       "    }\n",
       "</style>\n",
       "<table border=\"1\" class=\"dataframe\">\n",
       "  <thead>\n",
       "    <tr style=\"text-align: right;\">\n",
       "      <th></th>\n",
       "      <th>flight_id</th>\n",
       "      <th>flight_duration_minutes</th>\n",
       "      <th>actual_departure</th>\n",
       "      <th>actual_arrival</th>\n",
       "      <th>model</th>\n",
       "      <th>fare_conditions</th>\n",
       "      <th>total_seats</th>\n",
       "      <th>count</th>\n",
       "      <th>sum</th>\n",
       "      <th>city_of_departure</th>\n",
       "      <th>city_of_arrival</th>\n",
       "      <th>tonne per hour</th>\n",
       "      <th>Price RUB/ Tonne</th>\n",
       "      <th>Rashod, Tonne per minute</th>\n",
       "    </tr>\n",
       "  </thead>\n",
       "  <tbody>\n",
       "    <tr>\n",
       "      <th>0</th>\n",
       "      <td>136119</td>\n",
       "      <td>101.0</td>\n",
       "      <td>2017-01-03T10:08:00Z</td>\n",
       "      <td>2017-01-03T11:49:00Z</td>\n",
       "      <td>Boeing 737-300</td>\n",
       "      <td>Business</td>\n",
       "      <td>12</td>\n",
       "      <td>11</td>\n",
       "      <td>402600.0</td>\n",
       "      <td>Anapa</td>\n",
       "      <td>Moscow</td>\n",
       "      <td>2.4</td>\n",
       "      <td>45000</td>\n",
       "      <td>0.04</td>\n",
       "    </tr>\n",
       "    <tr>\n",
       "      <th>1</th>\n",
       "      <td>136119</td>\n",
       "      <td>101.0</td>\n",
       "      <td>2017-01-03T10:08:00Z</td>\n",
       "      <td>2017-01-03T11:49:00Z</td>\n",
       "      <td>Boeing 737-300</td>\n",
       "      <td>Economy</td>\n",
       "      <td>118</td>\n",
       "      <td>102</td>\n",
       "      <td>1250400.0</td>\n",
       "      <td>Anapa</td>\n",
       "      <td>Moscow</td>\n",
       "      <td>2.4</td>\n",
       "      <td>45000</td>\n",
       "      <td>0.04</td>\n",
       "    </tr>\n",
       "    <tr>\n",
       "      <th>2</th>\n",
       "      <td>136120</td>\n",
       "      <td>99.0</td>\n",
       "      <td>2017-02-24T10:07:00Z</td>\n",
       "      <td>2017-02-24T11:46:00Z</td>\n",
       "      <td>Boeing 737-300</td>\n",
       "      <td>Business</td>\n",
       "      <td>12</td>\n",
       "      <td>11</td>\n",
       "      <td>402600.0</td>\n",
       "      <td>Anapa</td>\n",
       "      <td>Moscow</td>\n",
       "      <td>2.4</td>\n",
       "      <td>45000</td>\n",
       "      <td>0.04</td>\n",
       "    </tr>\n",
       "    <tr>\n",
       "      <th>3</th>\n",
       "      <td>136120</td>\n",
       "      <td>99.0</td>\n",
       "      <td>2017-02-24T10:07:00Z</td>\n",
       "      <td>2017-02-24T11:46:00Z</td>\n",
       "      <td>Boeing 737-300</td>\n",
       "      <td>Economy</td>\n",
       "      <td>118</td>\n",
       "      <td>98</td>\n",
       "      <td>1202800.0</td>\n",
       "      <td>Anapa</td>\n",
       "      <td>Moscow</td>\n",
       "      <td>2.4</td>\n",
       "      <td>45000</td>\n",
       "      <td>0.04</td>\n",
       "    </tr>\n",
       "    <tr>\n",
       "      <th>4</th>\n",
       "      <td>136122</td>\n",
       "      <td>100.0</td>\n",
       "      <td>2017-01-08T10:08:00Z</td>\n",
       "      <td>2017-01-08T11:48:00Z</td>\n",
       "      <td>Boeing 737-300</td>\n",
       "      <td>Business</td>\n",
       "      <td>12</td>\n",
       "      <td>10</td>\n",
       "      <td>366000.0</td>\n",
       "      <td>Anapa</td>\n",
       "      <td>Moscow</td>\n",
       "      <td>2.4</td>\n",
       "      <td>45000</td>\n",
       "      <td>0.04</td>\n",
       "    </tr>\n",
       "  </tbody>\n",
       "</table>\n",
       "</div>"
      ],
      "text/plain": [
       "   flight_id  flight_duration_minutes      actual_departure  \\\n",
       "0     136119                    101.0  2017-01-03T10:08:00Z   \n",
       "1     136119                    101.0  2017-01-03T10:08:00Z   \n",
       "2     136120                     99.0  2017-02-24T10:07:00Z   \n",
       "3     136120                     99.0  2017-02-24T10:07:00Z   \n",
       "4     136122                    100.0  2017-01-08T10:08:00Z   \n",
       "\n",
       "         actual_arrival           model fare_conditions  total_seats  count  \\\n",
       "0  2017-01-03T11:49:00Z  Boeing 737-300        Business           12     11   \n",
       "1  2017-01-03T11:49:00Z  Boeing 737-300         Economy          118    102   \n",
       "2  2017-02-24T11:46:00Z  Boeing 737-300        Business           12     11   \n",
       "3  2017-02-24T11:46:00Z  Boeing 737-300         Economy          118     98   \n",
       "4  2017-01-08T11:48:00Z  Boeing 737-300        Business           12     10   \n",
       "\n",
       "         sum city_of_departure city_of_arrival  tonne per hour  \\\n",
       "0   402600.0             Anapa          Moscow             2.4   \n",
       "1  1250400.0             Anapa          Moscow             2.4   \n",
       "2   402600.0             Anapa          Moscow             2.4   \n",
       "3  1202800.0             Anapa          Moscow             2.4   \n",
       "4   366000.0             Anapa          Moscow             2.4   \n",
       "\n",
       "   Price RUB/ Tonne  Rashod, Tonne per minute  \n",
       "0             45000                      0.04  \n",
       "1             45000                      0.04  \n",
       "2             45000                      0.04  \n",
       "3             45000                      0.04  \n",
       "4             45000                      0.04  "
      ]
     },
     "execution_count": 97,
     "metadata": {},
     "output_type": "execute_result"
    }
   ],
   "source": [
    "df.head()"
   ]
  },
  {
   "cell_type": "markdown",
   "id": "83ecd41a",
   "metadata": {},
   "source": [
    "Добавляем расход топлива и его цену для расчета себестоимости рейсов"
   ]
  },
  {
   "cell_type": "code",
   "execution_count": 98,
   "id": "8a6fd4fb",
   "metadata": {},
   "outputs": [
    {
     "data": {
      "text/plain": [
       "Index(['flight_id', 'flight_duration_minutes', 'actual_departure',\n",
       "       'actual_arrival', 'model', 'fare_conditions', 'total_seats', 'count',\n",
       "       'sum', 'city_of_departure', 'city_of_arrival', 'tonne per hour',\n",
       "       'Price RUB/ Tonne', 'Rashod, Tonne per minute'],\n",
       "      dtype='object')"
      ]
     },
     "execution_count": 98,
     "metadata": {},
     "output_type": "execute_result"
    }
   ],
   "source": [
    "df.columns"
   ]
  },
  {
   "cell_type": "code",
   "execution_count": 99,
   "id": "6f59cc6a",
   "metadata": {},
   "outputs": [],
   "source": [
    "df.rename(columns={'count': 'real_seats'}, inplace=True)\n",
    "df.rename(columns={'sum': 'real_revenue'}, inplace=True)"
   ]
  },
  {
   "cell_type": "markdown",
   "id": "5e3b4fa2",
   "metadata": {},
   "source": [
    "Переименовываем столбцы для удобства"
   ]
  },
  {
   "cell_type": "code",
   "execution_count": 100,
   "id": "5c055fb6",
   "metadata": {},
   "outputs": [],
   "source": [
    "df['Price_per_place']=df.real_revenue/df.real_seats"
   ]
  },
  {
   "cell_type": "code",
   "execution_count": 101,
   "id": "2639ea75",
   "metadata": {},
   "outputs": [],
   "source": [
    "df['cost_of_fly']=df['Rashod, Tonne per minute']*df.flight_duration_minutes*df['Price RUB/ Tonne']/2"
   ]
  },
  {
   "cell_type": "code",
   "execution_count": 102,
   "id": "dc09148a",
   "metadata": {},
   "outputs": [],
   "source": [
    "df['fullfilment'] = df.real_seats/df.total_seats"
   ]
  },
  {
   "cell_type": "code",
   "execution_count": 103,
   "id": "a00d2839",
   "metadata": {},
   "outputs": [],
   "source": [
    "pvt = pd.pivot_table(df, index = ['flight_id'], values = ['real_revenue','cost_of_fly','total_seats', 'real_seats'],aggfunc=np.sum)"
   ]
  },
  {
   "cell_type": "code",
   "execution_count": 104,
   "id": "4ebd276c",
   "metadata": {},
   "outputs": [
    {
     "data": {
      "text/html": [
       "<div>\n",
       "<style scoped>\n",
       "    .dataframe tbody tr th:only-of-type {\n",
       "        vertical-align: middle;\n",
       "    }\n",
       "\n",
       "    .dataframe tbody tr th {\n",
       "        vertical-align: top;\n",
       "    }\n",
       "\n",
       "    .dataframe thead th {\n",
       "        text-align: right;\n",
       "    }\n",
       "</style>\n",
       "<table border=\"1\" class=\"dataframe\">\n",
       "  <thead>\n",
       "    <tr style=\"text-align: right;\">\n",
       "      <th></th>\n",
       "      <th>cost_of_fly</th>\n",
       "      <th>real_revenue</th>\n",
       "      <th>real_seats</th>\n",
       "      <th>total_seats</th>\n",
       "    </tr>\n",
       "    <tr>\n",
       "      <th>flight_id</th>\n",
       "      <th></th>\n",
       "      <th></th>\n",
       "      <th></th>\n",
       "      <th></th>\n",
       "    </tr>\n",
       "  </thead>\n",
       "  <tbody>\n",
       "    <tr>\n",
       "      <th>136119</th>\n",
       "      <td>181800.0</td>\n",
       "      <td>1653000.0</td>\n",
       "      <td>113</td>\n",
       "      <td>130</td>\n",
       "    </tr>\n",
       "    <tr>\n",
       "      <th>136120</th>\n",
       "      <td>178200.0</td>\n",
       "      <td>1605400.0</td>\n",
       "      <td>109</td>\n",
       "      <td>130</td>\n",
       "    </tr>\n",
       "    <tr>\n",
       "      <th>136122</th>\n",
       "      <td>180000.0</td>\n",
       "      <td>1431000.0</td>\n",
       "      <td>97</td>\n",
       "      <td>130</td>\n",
       "    </tr>\n",
       "    <tr>\n",
       "      <th>136130</th>\n",
       "      <td>178200.0</td>\n",
       "      <td>1556600.0</td>\n",
       "      <td>107</td>\n",
       "      <td>130</td>\n",
       "    </tr>\n",
       "    <tr>\n",
       "      <th>136131</th>\n",
       "      <td>178200.0</td>\n",
       "      <td>1812800.0</td>\n",
       "      <td>124</td>\n",
       "      <td>130</td>\n",
       "    </tr>\n",
       "    <tr>\n",
       "      <th>...</th>\n",
       "      <td>...</td>\n",
       "      <td>...</td>\n",
       "      <td>...</td>\n",
       "      <td>...</td>\n",
       "    </tr>\n",
       "    <tr>\n",
       "      <th>136936</th>\n",
       "      <td>63750.0</td>\n",
       "      <td>632400.0</td>\n",
       "      <td>82</td>\n",
       "      <td>97</td>\n",
       "    </tr>\n",
       "    <tr>\n",
       "      <th>136937</th>\n",
       "      <td>63750.0</td>\n",
       "      <td>626100.0</td>\n",
       "      <td>81</td>\n",
       "      <td>97</td>\n",
       "    </tr>\n",
       "    <tr>\n",
       "      <th>136951</th>\n",
       "      <td>62475.0</td>\n",
       "      <td>720600.0</td>\n",
       "      <td>90</td>\n",
       "      <td>97</td>\n",
       "    </tr>\n",
       "    <tr>\n",
       "      <th>136953</th>\n",
       "      <td>63750.0</td>\n",
       "      <td>765300.0</td>\n",
       "      <td>97</td>\n",
       "      <td>97</td>\n",
       "    </tr>\n",
       "    <tr>\n",
       "      <th>136956</th>\n",
       "      <td>63750.0</td>\n",
       "      <td>746400.0</td>\n",
       "      <td>96</td>\n",
       "      <td>97</td>\n",
       "    </tr>\n",
       "  </tbody>\n",
       "</table>\n",
       "<p>127 rows × 4 columns</p>\n",
       "</div>"
      ],
      "text/plain": [
       "           cost_of_fly  real_revenue  real_seats  total_seats\n",
       "flight_id                                                    \n",
       "136119        181800.0     1653000.0         113          130\n",
       "136120        178200.0     1605400.0         109          130\n",
       "136122        180000.0     1431000.0          97          130\n",
       "136130        178200.0     1556600.0         107          130\n",
       "136131        178200.0     1812800.0         124          130\n",
       "...                ...           ...         ...          ...\n",
       "136936         63750.0      632400.0          82           97\n",
       "136937         63750.0      626100.0          81           97\n",
       "136951         62475.0      720600.0          90           97\n",
       "136953         63750.0      765300.0          97           97\n",
       "136956         63750.0      746400.0          96           97\n",
       "\n",
       "[127 rows x 4 columns]"
      ]
     },
     "execution_count": 104,
     "metadata": {},
     "output_type": "execute_result"
    }
   ],
   "source": [
    "pvt"
   ]
  },
  {
   "cell_type": "markdown",
   "id": "2b028a78",
   "metadata": {},
   "source": [
    "Делаем сводную, изабвляясь от разбивки мест на бизнес-класс и эконом (они оказались бесполезными)"
   ]
  },
  {
   "cell_type": "code",
   "execution_count": 105,
   "id": "3245b2e4",
   "metadata": {},
   "outputs": [],
   "source": [
    "df = df.drop_duplicates(subset=['flight_id'])"
   ]
  },
  {
   "cell_type": "code",
   "execution_count": 106,
   "id": "41a5b89e",
   "metadata": {},
   "outputs": [],
   "source": [
    "pvt = pvt.merge(df, on ='flight_id', how = 'left')"
   ]
  },
  {
   "cell_type": "code",
   "execution_count": 107,
   "id": "eb6f3063",
   "metadata": {},
   "outputs": [],
   "source": [
    "pvt = pvt.drop(columns=['fare_conditions', 'total_seats_y','real_seats_y','real_revenue_y','Price_per_place','cost_of_fly_y','fullfilment'])"
   ]
  },
  {
   "cell_type": "code",
   "execution_count": 108,
   "id": "99b2ba99",
   "metadata": {},
   "outputs": [],
   "source": [
    "pvt['profit'] = pvt.real_revenue_x - pvt.cost_of_fly_x"
   ]
  },
  {
   "cell_type": "code",
   "execution_count": 147,
   "id": "00b36eda",
   "metadata": {},
   "outputs": [],
   "source": [
    "pvt['fulfillment'] = pvt.real_seats_x/pvt.total_seats_x"
   ]
  },
  {
   "cell_type": "code",
   "execution_count": 151,
   "id": "b179a012",
   "metadata": {},
   "outputs": [],
   "source": [
    "pvt.actual_arrival = pd.to_datetime(pvt['actual_arrival'].str.strip(), format='%Y-%m-%dT%H:%M:%SZ')"
   ]
  },
  {
   "cell_type": "code",
   "execution_count": 154,
   "id": "ea222637",
   "metadata": {},
   "outputs": [],
   "source": [
    "pvt['number_day_of_week']= pvt.actual_departure.dt.dayofweek"
   ]
  },
  {
   "cell_type": "code",
   "execution_count": 161,
   "id": "56a89582",
   "metadata": {},
   "outputs": [],
   "source": [
    "pvt['weekend'] = pvt['number_day_of_week'].apply(lambda x: 'Weekend' if x >= 5  else 'Working day')"
   ]
  },
  {
   "cell_type": "code",
   "execution_count": 165,
   "id": "c7ba968c",
   "metadata": {},
   "outputs": [],
   "source": [
    "pvt['month'] = pvt['actual_departure'].dt.month"
   ]
  },
  {
   "cell_type": "code",
   "execution_count": 169,
   "id": "389748a0",
   "metadata": {},
   "outputs": [],
   "source": [
    "pvt['day'] = pvt['actual_departure'].dt.day"
   ]
  },
  {
   "cell_type": "markdown",
   "id": "07dbddbc",
   "metadata": {},
   "source": [
    "Добавляем колонку с прибылью, обрабатываем даты"
   ]
  },
  {
   "cell_type": "code",
   "execution_count": 174,
   "id": "01e3a3a3",
   "metadata": {},
   "outputs": [
    {
     "data": {
      "text/html": [
       "<div>\n",
       "<style scoped>\n",
       "    .dataframe tbody tr th:only-of-type {\n",
       "        vertical-align: middle;\n",
       "    }\n",
       "\n",
       "    .dataframe tbody tr th {\n",
       "        vertical-align: top;\n",
       "    }\n",
       "\n",
       "    .dataframe thead th {\n",
       "        text-align: right;\n",
       "    }\n",
       "</style>\n",
       "<table border=\"1\" class=\"dataframe\">\n",
       "  <thead>\n",
       "    <tr style=\"text-align: right;\">\n",
       "      <th></th>\n",
       "      <th>flight_id</th>\n",
       "      <th>cost_of_fly_x</th>\n",
       "      <th>real_revenue_x</th>\n",
       "      <th>real_seats_x</th>\n",
       "      <th>total_seats_x</th>\n",
       "      <th>flight_duration_minutes</th>\n",
       "      <th>actual_departure</th>\n",
       "      <th>actual_arrival</th>\n",
       "      <th>model</th>\n",
       "      <th>city_of_departure</th>\n",
       "      <th>city_of_arrival</th>\n",
       "      <th>tonne per hour</th>\n",
       "      <th>Price RUB/ Tonne</th>\n",
       "      <th>Rashod, Tonne per minute</th>\n",
       "      <th>profit</th>\n",
       "      <th>fulfillment</th>\n",
       "      <th>number_day_of_week</th>\n",
       "      <th>weekend</th>\n",
       "      <th>month</th>\n",
       "      <th>day</th>\n",
       "    </tr>\n",
       "  </thead>\n",
       "  <tbody>\n",
       "    <tr>\n",
       "      <th>0</th>\n",
       "      <td>136119</td>\n",
       "      <td>181800.0</td>\n",
       "      <td>1653000.0</td>\n",
       "      <td>113</td>\n",
       "      <td>130</td>\n",
       "      <td>101.0</td>\n",
       "      <td>2017-01-03 10:08:00</td>\n",
       "      <td>2017-01-03 11:49:00</td>\n",
       "      <td>Boeing 737-300</td>\n",
       "      <td>Anapa</td>\n",
       "      <td>Moscow</td>\n",
       "      <td>2.4</td>\n",
       "      <td>45000</td>\n",
       "      <td>0.040000</td>\n",
       "      <td>1471200.0</td>\n",
       "      <td>0.869231</td>\n",
       "      <td>1</td>\n",
       "      <td>Working day</td>\n",
       "      <td>1</td>\n",
       "      <td>3</td>\n",
       "    </tr>\n",
       "    <tr>\n",
       "      <th>1</th>\n",
       "      <td>136120</td>\n",
       "      <td>178200.0</td>\n",
       "      <td>1605400.0</td>\n",
       "      <td>109</td>\n",
       "      <td>130</td>\n",
       "      <td>99.0</td>\n",
       "      <td>2017-02-24 10:07:00</td>\n",
       "      <td>2017-02-24 11:46:00</td>\n",
       "      <td>Boeing 737-300</td>\n",
       "      <td>Anapa</td>\n",
       "      <td>Moscow</td>\n",
       "      <td>2.4</td>\n",
       "      <td>45000</td>\n",
       "      <td>0.040000</td>\n",
       "      <td>1427200.0</td>\n",
       "      <td>0.838462</td>\n",
       "      <td>4</td>\n",
       "      <td>Working day</td>\n",
       "      <td>2</td>\n",
       "      <td>24</td>\n",
       "    </tr>\n",
       "    <tr>\n",
       "      <th>2</th>\n",
       "      <td>136122</td>\n",
       "      <td>180000.0</td>\n",
       "      <td>1431000.0</td>\n",
       "      <td>97</td>\n",
       "      <td>130</td>\n",
       "      <td>100.0</td>\n",
       "      <td>2017-01-08 10:08:00</td>\n",
       "      <td>2017-01-08 11:48:00</td>\n",
       "      <td>Boeing 737-300</td>\n",
       "      <td>Anapa</td>\n",
       "      <td>Moscow</td>\n",
       "      <td>2.4</td>\n",
       "      <td>45000</td>\n",
       "      <td>0.040000</td>\n",
       "      <td>1251000.0</td>\n",
       "      <td>0.746154</td>\n",
       "      <td>6</td>\n",
       "      <td>Weekend</td>\n",
       "      <td>1</td>\n",
       "      <td>8</td>\n",
       "    </tr>\n",
       "    <tr>\n",
       "      <th>3</th>\n",
       "      <td>136130</td>\n",
       "      <td>178200.0</td>\n",
       "      <td>1556600.0</td>\n",
       "      <td>107</td>\n",
       "      <td>130</td>\n",
       "      <td>99.0</td>\n",
       "      <td>2017-02-13 10:07:00</td>\n",
       "      <td>2017-02-13 11:46:00</td>\n",
       "      <td>Boeing 737-300</td>\n",
       "      <td>Anapa</td>\n",
       "      <td>Moscow</td>\n",
       "      <td>2.4</td>\n",
       "      <td>45000</td>\n",
       "      <td>0.040000</td>\n",
       "      <td>1378400.0</td>\n",
       "      <td>0.823077</td>\n",
       "      <td>0</td>\n",
       "      <td>Working day</td>\n",
       "      <td>2</td>\n",
       "      <td>13</td>\n",
       "    </tr>\n",
       "    <tr>\n",
       "      <th>4</th>\n",
       "      <td>136131</td>\n",
       "      <td>178200.0</td>\n",
       "      <td>1812800.0</td>\n",
       "      <td>124</td>\n",
       "      <td>130</td>\n",
       "      <td>99.0</td>\n",
       "      <td>2017-01-28 10:07:00</td>\n",
       "      <td>2017-01-28 11:46:00</td>\n",
       "      <td>Boeing 737-300</td>\n",
       "      <td>Anapa</td>\n",
       "      <td>Moscow</td>\n",
       "      <td>2.4</td>\n",
       "      <td>45000</td>\n",
       "      <td>0.040000</td>\n",
       "      <td>1634600.0</td>\n",
       "      <td>0.953846</td>\n",
       "      <td>5</td>\n",
       "      <td>Weekend</td>\n",
       "      <td>1</td>\n",
       "      <td>28</td>\n",
       "    </tr>\n",
       "    <tr>\n",
       "      <th>...</th>\n",
       "      <td>...</td>\n",
       "      <td>...</td>\n",
       "      <td>...</td>\n",
       "      <td>...</td>\n",
       "      <td>...</td>\n",
       "      <td>...</td>\n",
       "      <td>...</td>\n",
       "      <td>...</td>\n",
       "      <td>...</td>\n",
       "      <td>...</td>\n",
       "      <td>...</td>\n",
       "      <td>...</td>\n",
       "      <td>...</td>\n",
       "      <td>...</td>\n",
       "      <td>...</td>\n",
       "      <td>...</td>\n",
       "      <td>...</td>\n",
       "      <td>...</td>\n",
       "      <td>...</td>\n",
       "      <td>...</td>\n",
       "    </tr>\n",
       "    <tr>\n",
       "      <th>122</th>\n",
       "      <td>136936</td>\n",
       "      <td>63750.0</td>\n",
       "      <td>632400.0</td>\n",
       "      <td>82</td>\n",
       "      <td>97</td>\n",
       "      <td>50.0</td>\n",
       "      <td>2017-01-02 09:28:00</td>\n",
       "      <td>2017-01-02 10:18:00</td>\n",
       "      <td>Sukhoi Superjet-100</td>\n",
       "      <td>Anapa</td>\n",
       "      <td>Belgorod</td>\n",
       "      <td>1.7</td>\n",
       "      <td>45000</td>\n",
       "      <td>0.028333</td>\n",
       "      <td>568650.0</td>\n",
       "      <td>0.845361</td>\n",
       "      <td>0</td>\n",
       "      <td>Working day</td>\n",
       "      <td>1</td>\n",
       "      <td>2</td>\n",
       "    </tr>\n",
       "    <tr>\n",
       "      <th>123</th>\n",
       "      <td>136937</td>\n",
       "      <td>63750.0</td>\n",
       "      <td>626100.0</td>\n",
       "      <td>81</td>\n",
       "      <td>97</td>\n",
       "      <td>50.0</td>\n",
       "      <td>2017-01-03 09:29:00</td>\n",
       "      <td>2017-01-03 10:19:00</td>\n",
       "      <td>Sukhoi Superjet-100</td>\n",
       "      <td>Anapa</td>\n",
       "      <td>Belgorod</td>\n",
       "      <td>1.7</td>\n",
       "      <td>45000</td>\n",
       "      <td>0.028333</td>\n",
       "      <td>562350.0</td>\n",
       "      <td>0.835052</td>\n",
       "      <td>1</td>\n",
       "      <td>Working day</td>\n",
       "      <td>1</td>\n",
       "      <td>3</td>\n",
       "    </tr>\n",
       "    <tr>\n",
       "      <th>124</th>\n",
       "      <td>136951</td>\n",
       "      <td>62475.0</td>\n",
       "      <td>720600.0</td>\n",
       "      <td>90</td>\n",
       "      <td>97</td>\n",
       "      <td>49.0</td>\n",
       "      <td>2017-02-02 09:28:00</td>\n",
       "      <td>2017-02-02 10:17:00</td>\n",
       "      <td>Sukhoi Superjet-100</td>\n",
       "      <td>Anapa</td>\n",
       "      <td>Belgorod</td>\n",
       "      <td>1.7</td>\n",
       "      <td>45000</td>\n",
       "      <td>0.028333</td>\n",
       "      <td>658125.0</td>\n",
       "      <td>0.927835</td>\n",
       "      <td>3</td>\n",
       "      <td>Working day</td>\n",
       "      <td>2</td>\n",
       "      <td>2</td>\n",
       "    </tr>\n",
       "    <tr>\n",
       "      <th>125</th>\n",
       "      <td>136953</td>\n",
       "      <td>63750.0</td>\n",
       "      <td>765300.0</td>\n",
       "      <td>97</td>\n",
       "      <td>97</td>\n",
       "      <td>50.0</td>\n",
       "      <td>2017-02-27 09:27:00</td>\n",
       "      <td>2017-02-27 10:17:00</td>\n",
       "      <td>Sukhoi Superjet-100</td>\n",
       "      <td>Anapa</td>\n",
       "      <td>Belgorod</td>\n",
       "      <td>1.7</td>\n",
       "      <td>45000</td>\n",
       "      <td>0.028333</td>\n",
       "      <td>701550.0</td>\n",
       "      <td>1.000000</td>\n",
       "      <td>0</td>\n",
       "      <td>Working day</td>\n",
       "      <td>2</td>\n",
       "      <td>27</td>\n",
       "    </tr>\n",
       "    <tr>\n",
       "      <th>126</th>\n",
       "      <td>136956</td>\n",
       "      <td>63750.0</td>\n",
       "      <td>746400.0</td>\n",
       "      <td>96</td>\n",
       "      <td>97</td>\n",
       "      <td>50.0</td>\n",
       "      <td>2017-02-04 09:33:00</td>\n",
       "      <td>2017-02-04 10:23:00</td>\n",
       "      <td>Sukhoi Superjet-100</td>\n",
       "      <td>Anapa</td>\n",
       "      <td>Belgorod</td>\n",
       "      <td>1.7</td>\n",
       "      <td>45000</td>\n",
       "      <td>0.028333</td>\n",
       "      <td>682650.0</td>\n",
       "      <td>0.989691</td>\n",
       "      <td>5</td>\n",
       "      <td>Weekend</td>\n",
       "      <td>2</td>\n",
       "      <td>4</td>\n",
       "    </tr>\n",
       "  </tbody>\n",
       "</table>\n",
       "<p>127 rows × 20 columns</p>\n",
       "</div>"
      ],
      "text/plain": [
       "     flight_id  cost_of_fly_x  real_revenue_x  real_seats_x  total_seats_x  \\\n",
       "0       136119       181800.0       1653000.0           113            130   \n",
       "1       136120       178200.0       1605400.0           109            130   \n",
       "2       136122       180000.0       1431000.0            97            130   \n",
       "3       136130       178200.0       1556600.0           107            130   \n",
       "4       136131       178200.0       1812800.0           124            130   \n",
       "..         ...            ...             ...           ...            ...   \n",
       "122     136936        63750.0        632400.0            82             97   \n",
       "123     136937        63750.0        626100.0            81             97   \n",
       "124     136951        62475.0        720600.0            90             97   \n",
       "125     136953        63750.0        765300.0            97             97   \n",
       "126     136956        63750.0        746400.0            96             97   \n",
       "\n",
       "     flight_duration_minutes    actual_departure      actual_arrival  \\\n",
       "0                      101.0 2017-01-03 10:08:00 2017-01-03 11:49:00   \n",
       "1                       99.0 2017-02-24 10:07:00 2017-02-24 11:46:00   \n",
       "2                      100.0 2017-01-08 10:08:00 2017-01-08 11:48:00   \n",
       "3                       99.0 2017-02-13 10:07:00 2017-02-13 11:46:00   \n",
       "4                       99.0 2017-01-28 10:07:00 2017-01-28 11:46:00   \n",
       "..                       ...                 ...                 ...   \n",
       "122                     50.0 2017-01-02 09:28:00 2017-01-02 10:18:00   \n",
       "123                     50.0 2017-01-03 09:29:00 2017-01-03 10:19:00   \n",
       "124                     49.0 2017-02-02 09:28:00 2017-02-02 10:17:00   \n",
       "125                     50.0 2017-02-27 09:27:00 2017-02-27 10:17:00   \n",
       "126                     50.0 2017-02-04 09:33:00 2017-02-04 10:23:00   \n",
       "\n",
       "                   model city_of_departure city_of_arrival  tonne per hour  \\\n",
       "0         Boeing 737-300             Anapa          Moscow             2.4   \n",
       "1         Boeing 737-300             Anapa          Moscow             2.4   \n",
       "2         Boeing 737-300             Anapa          Moscow             2.4   \n",
       "3         Boeing 737-300             Anapa          Moscow             2.4   \n",
       "4         Boeing 737-300             Anapa          Moscow             2.4   \n",
       "..                   ...               ...             ...             ...   \n",
       "122  Sukhoi Superjet-100             Anapa        Belgorod             1.7   \n",
       "123  Sukhoi Superjet-100             Anapa        Belgorod             1.7   \n",
       "124  Sukhoi Superjet-100             Anapa        Belgorod             1.7   \n",
       "125  Sukhoi Superjet-100             Anapa        Belgorod             1.7   \n",
       "126  Sukhoi Superjet-100             Anapa        Belgorod             1.7   \n",
       "\n",
       "     Price RUB/ Tonne  Rashod, Tonne per minute     profit  fulfillment  \\\n",
       "0               45000                  0.040000  1471200.0     0.869231   \n",
       "1               45000                  0.040000  1427200.0     0.838462   \n",
       "2               45000                  0.040000  1251000.0     0.746154   \n",
       "3               45000                  0.040000  1378400.0     0.823077   \n",
       "4               45000                  0.040000  1634600.0     0.953846   \n",
       "..                ...                       ...        ...          ...   \n",
       "122             45000                  0.028333   568650.0     0.845361   \n",
       "123             45000                  0.028333   562350.0     0.835052   \n",
       "124             45000                  0.028333   658125.0     0.927835   \n",
       "125             45000                  0.028333   701550.0     1.000000   \n",
       "126             45000                  0.028333   682650.0     0.989691   \n",
       "\n",
       "     number_day_of_week      weekend  month  day  \n",
       "0                     1  Working day      1    3  \n",
       "1                     4  Working day      2   24  \n",
       "2                     6      Weekend      1    8  \n",
       "3                     0  Working day      2   13  \n",
       "4                     5      Weekend      1   28  \n",
       "..                  ...          ...    ...  ...  \n",
       "122                   0  Working day      1    2  \n",
       "123                   1  Working day      1    3  \n",
       "124                   3  Working day      2    2  \n",
       "125                   0  Working day      2   27  \n",
       "126                   5      Weekend      2    4  \n",
       "\n",
       "[127 rows x 20 columns]"
      ]
     },
     "execution_count": 174,
     "metadata": {},
     "output_type": "execute_result"
    }
   ],
   "source": [
    "pvt"
   ]
  },
  {
   "cell_type": "code",
   "execution_count": 124,
   "id": "73b77a3e",
   "metadata": {},
   "outputs": [
    {
     "data": {
      "text/plain": [
       "<AxesSubplot:>"
      ]
     },
     "execution_count": 124,
     "metadata": {},
     "output_type": "execute_result"
    },
    {
     "data": {
      "image/png": "[encoded data removed]",
      "text/plain": [
       "<Figure size 720x360 with 1 Axes>"
      ]
     },
     "metadata": {
      "needs_background": "light"
     },
     "output_type": "display_data"
    }
   ],
   "source": [
    "plt.rcParams['figure.figsize'] = (10,5)\n",
    "pvt['profit'].hist(bins=100)"
   ]
  },
  {
   "cell_type": "markdown",
   "id": "405c14a8",
   "metadata": {},
   "source": [
    "Видим, что есть выбросы с убытком"
   ]
  },
  {
   "cell_type": "code",
   "execution_count": 182,
   "id": "b982d650",
   "metadata": {},
   "outputs": [],
   "source": [
    "pvt['price_per_person'] = pvt['real_revenue_x']/pvt['real_seats_x']"
   ]
  },
  {
   "cell_type": "code",
   "execution_count": 186,
   "id": "5a37067b",
   "metadata": {},
   "outputs": [],
   "source": [
    "pvt['cost_per_person'] = pvt['cost_of_fly_x']/pvt['real_seats_x']"
   ]
  },
  {
   "cell_type": "code",
   "execution_count": 190,
   "id": "29cb9f5e",
   "metadata": {},
   "outputs": [],
   "source": [
    "pvt['profit per minute'] = pvt['profit']/ pvt['flight_duration_minutes']"
   ]
  },
  {
   "cell_type": "code",
   "execution_count": 121,
   "id": "13e4bc62",
   "metadata": {
    "scrolled": true
   },
   "outputs": [
    {
     "data": {
      "text/plain": [
       "<AxesSubplot:>"
      ]
     },
     "execution_count": 121,
     "metadata": {},
     "output_type": "execute_result"
    },
    {
     "data": {
      "image/png": "[encoded data removed]",
      "text/plain": [
       "<Figure size 432x288 with 1 Axes>"
      ]
     },
     "metadata": {
      "needs_background": "light"
     },
     "output_type": "display_data"
    }
   ],
   "source": [
    "pvt['city_of_arrival'].value_counts(ascending=True).plot(kind='barh')"
   ]
  },
  {
   "cell_type": "markdown",
   "id": "3b79413c",
   "metadata": {},
   "source": [
    "Добавляем несколько числовых показателей для более точного анализа прибыльности, смотрим в какие города осуществляются рейсы."
   ]
  },
  {
   "cell_type": "code",
   "execution_count": 175,
   "id": "a77dda3f",
   "metadata": {
    "scrolled": false
   },
   "outputs": [
    {
     "data": {
      "image/png": "[encoded data removed]",
      "text/plain": [
       "<Figure size 1008x288 with 1 Axes>"
      ]
     },
     "metadata": {
      "needs_background": "light"
     },
     "output_type": "display_data"
    }
   ],
   "source": [
    "def get_barplot(column):\n",
    "    fig, ax = plt.subplots(figsize=(14, 4))\n",
    "    sns.barplot(x=column, y='profit',\n",
    "                data=pvt.loc[pvt.loc[:, column].isin(\n",
    "                    pvt.loc[:, column].value_counts().index[:50])],\n",
    "                ax=ax)\n",
    "    plt.xticks(rotation=45)\n",
    "    ax.set_title('Boxplot for ' + column)\n",
    "    plt.show()\n",
    "\n",
    "\n",
    "for col in ['city_of_arrival']:\n",
    "    get_barplot(col)"
   ]
  },
  {
   "cell_type": "code",
   "execution_count": 209,
   "id": "0107dffb",
   "metadata": {
    "scrolled": true
   },
   "outputs": [
    {
     "data": {
      "text/plain": [
       "940866.7322834645"
      ]
     },
     "execution_count": 209,
     "metadata": {},
     "output_type": "execute_result"
    }
   ],
   "source": [
    "pvt['profit'].mean()"
   ]
  },
  {
   "cell_type": "code",
   "execution_count": 210,
   "id": "a79287b8",
   "metadata": {
    "scrolled": true
   },
   "outputs": [
    {
     "data": {
      "text/plain": [
       "city_of_arrival\n",
       "Belgorod         646578.0\n",
       "Moscow          1462881.0\n",
       "Novokuznetsk    -552000.0\n",
       "Name: profit, dtype: float64"
      ]
     },
     "execution_count": 210,
     "metadata": {},
     "output_type": "execute_result"
    }
   ],
   "source": [
    "pvt.groupby(['city_of_arrival'])['profit'].mean().round()"
   ]
  },
  {
   "cell_type": "markdown",
   "id": "f41cca8b",
   "metadata": {},
   "source": [
    "Рейсы в Новокузнецк убыточны, узнаем их ID"
   ]
  },
  {
   "cell_type": "code",
   "execution_count": 216,
   "id": "9b41a47a",
   "metadata": {},
   "outputs": [
    {
     "data": {
      "text/plain": [
       "59    136511\n",
       "60    136513\n",
       "61    136514\n",
       "62    136523\n",
       "63    136540\n",
       "64    136544\n",
       "65    136546\n",
       "66    136560\n",
       "67    136567\n",
       "Name: flight_id, dtype: int64"
      ]
     },
     "execution_count": 216,
     "metadata": {},
     "output_type": "execute_result"
    }
   ],
   "source": [
    "pvt_todelete = pvt[pvt['city_of_arrival'] == 'Novokuznetsk']\n",
    "pvt_todelete.flight_id"
   ]
  },
  {
   "cell_type": "code",
   "execution_count": 192,
   "id": "0b4c76db",
   "metadata": {},
   "outputs": [
    {
     "data": {
      "image/png": "[encoded data removed]",
      "text/plain": [
       "<Figure size 1008x288 with 1 Axes>"
      ]
     },
     "metadata": {
      "needs_background": "light"
     },
     "output_type": "display_data"
    },
    {
     "data": {
      "image/png": "[encoded data removed]",
      "text/plain": [
       "<Figure size 1008x288 with 1 Axes>"
      ]
     },
     "metadata": {
      "needs_background": "light"
     },
     "output_type": "display_data"
    },
    {
     "data": {
      "image/png": "[encoded data removed]",
      "text/plain": [
       "<Figure size 1008x288 with 1 Axes>"
      ]
     },
     "metadata": {
      "needs_background": "light"
     },
     "output_type": "display_data"
    },
    {
     "data": {
      "image/png": "[encoded data removed]",
      "text/plain": [
       "<Figure size 1008x288 with 1 Axes>"
      ]
     },
     "metadata": {
      "needs_background": "light"
     },
     "output_type": "display_data"
    }
   ],
   "source": [
    "pvt2 = pvt[pvt['city_of_arrival'] != 'Novokuznetsk']\n",
    "def get_barplot(column):\n",
    "    fig, ax = plt.subplots(figsize=(14, 4))\n",
    "    sns.barplot(x=column, y='profit',\n",
    "                data=pvt2.loc[pvt2.loc[:, column].isin(\n",
    "                    pvt2.loc[:, column].value_counts().index[:50])],\n",
    "                ax=ax)\n",
    "    plt.xticks(rotation=45)\n",
    "    ax.set_title('Boxplot for ' + column)\n",
    "    plt.show()\n",
    "\n",
    "\n",
    "for col in ['city_of_arrival','model','number_day_of_week', 'weekend']:\n",
    "    get_barplot(col)"
   ]
  },
  {
   "cell_type": "code",
   "execution_count": 184,
   "id": "067775d6",
   "metadata": {
    "scrolled": true
   },
   "outputs": [
    {
     "data": {
      "image/png": "[encoded data removed]",
      "text/plain": [
       "<Figure size 1008x288 with 1 Axes>"
      ]
     },
     "metadata": {
      "needs_background": "light"
     },
     "output_type": "display_data"
    },
    {
     "data": {
      "image/png": "[encoded data removed]",
      "text/plain": [
       "<Figure size 1008x288 with 1 Axes>"
      ]
     },
     "metadata": {
      "needs_background": "light"
     },
     "output_type": "display_data"
    }
   ],
   "source": [
    "def get_barplot(column):\n",
    "    fig, ax = plt.subplots(figsize=(14, 4))\n",
    "    sns.barplot(x=column, y='price_per_person',\n",
    "                data=pvt2.loc[pvt2.loc[:, column].isin(\n",
    "                    pvt2.loc[:, column].value_counts().index[:50])],\n",
    "                ax=ax)\n",
    "    plt.xticks(rotation=45)\n",
    "    ax.set_title('Boxplot for ' + column)\n",
    "    plt.show()\n",
    "\n",
    "\n",
    "for col in ['city_of_arrival','model']:\n",
    "    get_barplot(col)"
   ]
  },
  {
   "cell_type": "code",
   "execution_count": 185,
   "id": "e4b892c6",
   "metadata": {},
   "outputs": [
    {
     "data": {
      "image/png": "[encoded data removed]",
      "text/plain": [
       "<Figure size 1008x288 with 1 Axes>"
      ]
     },
     "metadata": {
      "needs_background": "light"
     },
     "output_type": "display_data"
    },
    {
     "data": {
      "image/png": "[encoded data removed]",
      "text/plain": [
       "<Figure size 1008x288 with 1 Axes>"
      ]
     },
     "metadata": {
      "needs_background": "light"
     },
     "output_type": "display_data"
    }
   ],
   "source": [
    "def get_barplot(column):\n",
    "    fig, ax = plt.subplots(figsize=(14, 4))\n",
    "    sns.barplot(x=column, y='fulfillment',\n",
    "                data=pvt2.loc[pvt2.loc[:, column].isin(\n",
    "                    pvt2.loc[:, column].value_counts().index[:50])],\n",
    "                ax=ax)\n",
    "    plt.xticks(rotation=45)\n",
    "    ax.set_title('Boxplot for ' + column)\n",
    "    plt.show()\n",
    "\n",
    "\n",
    "for col in ['city_of_arrival','model']:\n",
    "    get_barplot(col)"
   ]
  },
  {
   "cell_type": "code",
   "execution_count": 189,
   "id": "472d731e",
   "metadata": {},
   "outputs": [
    {
     "data": {
      "image/png": "[encoded data removed]",
      "text/plain": [
       "<Figure size 1008x288 with 1 Axes>"
      ]
     },
     "metadata": {
      "needs_background": "light"
     },
     "output_type": "display_data"
    },
    {
     "data": {
      "image/png": "[encoded data removed]",
      "text/plain": [
       "<Figure size 1008x288 with 1 Axes>"
      ]
     },
     "metadata": {
      "needs_background": "light"
     },
     "output_type": "display_data"
    }
   ],
   "source": [
    "\n",
    "def get_barplot(column):\n",
    "    fig, ax = plt.subplots(figsize=(14, 4))\n",
    "    sns.barplot(x=column, y='cost_per_person',\n",
    "                data=pvt2.loc[pvt2.loc[:, column].isin(\n",
    "                    pvt2.loc[:, column].value_counts().index[:50])],\n",
    "                ax=ax)\n",
    "    plt.xticks(rotation=45)\n",
    "    ax.set_title('Boxplot for ' + column)\n",
    "    plt.show()\n",
    "\n",
    "\n",
    "for col in ['city_of_arrival','model']:\n",
    "    get_barplot(col)"
   ]
  },
  {
   "cell_type": "code",
   "execution_count": 126,
   "id": "83bfeffa",
   "metadata": {},
   "outputs": [
    {
     "data": {
      "image/png": "[encoded data removed]",
      "text/plain": [
       "<Figure size 720x360 with 1 Axes>"
      ]
     },
     "metadata": {
      "needs_background": "light"
     },
     "output_type": "display_data"
    }
   ],
   "source": [
    "for x in (pvt['city_of_arrival'].value_counts())[0:3].index:\n",
    "    pvt['profit'][pvt['city_of_arrival'] == x].hist(bins=10)\n",
    "plt.show()"
   ]
  },
  {
   "cell_type": "code",
   "execution_count": 193,
   "id": "71d3e8b3",
   "metadata": {},
   "outputs": [
    {
     "data": {
      "image/png": "[encoded data removed]",
      "text/plain": [
       "<Figure size 1008x288 with 1 Axes>"
      ]
     },
     "metadata": {
      "needs_background": "light"
     },
     "output_type": "display_data"
    },
    {
     "data": {
      "image/png": "[encoded data removed]",
      "text/plain": [
       "<Figure size 1008x288 with 1 Axes>"
      ]
     },
     "metadata": {
      "needs_background": "light"
     },
     "output_type": "display_data"
    }
   ],
   "source": [
    "def get_barplot(column):\n",
    "    fig, ax = plt.subplots(figsize=(14, 4))\n",
    "    sns.barplot(x=column, y='profit per minute',\n",
    "                data=pvt2.loc[pvt2.loc[:, column].isin(\n",
    "                    pvt2.loc[:, column].value_counts().index[:50])],\n",
    "                ax=ax)\n",
    "    plt.xticks(rotation=45)\n",
    "    ax.set_title('Boxplot for ' + column)\n",
    "    plt.show()\n",
    "\n",
    "\n",
    "for col in ['city_of_arrival','model']:\n",
    "    get_barplot(col)"
   ]
  },
  {
   "cell_type": "code",
   "execution_count": 194,
   "id": "92104e5c",
   "metadata": {},
   "outputs": [
    {
     "data": {
      "text/plain": [
       "<AxesSubplot:>"
      ]
     },
     "execution_count": 194,
     "metadata": {},
     "output_type": "execute_result"
    },
    {
     "data": {
      "image/png": "[encoded data removed]",
      "text/plain": [
       "<Figure size 1080x720 with 2 Axes>"
      ]
     },
     "metadata": {
      "needs_background": "light"
     },
     "output_type": "display_data"
    }
   ],
   "source": [
    "plt.rcParams['figure.figsize'] = (15,10)\n",
    "sns.heatmap(pvt.corr(),)"
   ]
  }
 ],
 "metadata": {
  "kernelspec": {
   "display_name": "Python 3",
   "language": "python",
   "name": "python3"
  },
  "language_info": {
   "codemirror_mode": {
    "name": "ipython",
    "version": 3
   },
   "file_extension": ".py",
   "mimetype": "text/x-python",
   "name": "python",
   "nbconvert_exporter": "python",
   "pygments_lexer": "ipython3",
   "version": "3.8.8"
  }
 },
 "nbformat": 4,
 "nbformat_minor": 5
}
